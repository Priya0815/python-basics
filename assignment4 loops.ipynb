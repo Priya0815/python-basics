{
 "cells": [
  {
   "cell_type": "code",
   "execution_count": 8,
   "id": "6489a015-10ad-474d-bb4d-e53102990459",
   "metadata": {},
   "outputs": [
    {
     "name": "stdout",
     "output_type": "stream",
     "text": [
      "1\n",
      "2\n",
      "3\n",
      "4\n",
      "5\n"
     ]
    }
   ],
   "source": [
    "#print numbers from 1 to 5 using a while loop.\n",
    "a=6\n",
    "b=1\n",
    "while b<a:\n",
    "    print(b)\n",
    "    b=b+1\n",
    "    "
   ]
  },
  {
   "cell_type": "code",
   "execution_count": 9,
   "id": "8aa4cd84-fa72-498d-abe2-88c03aed6052",
   "metadata": {},
   "outputs": [
    {
     "name": "stdout",
     "output_type": "stream",
     "text": [
      "2\n",
      "4\n",
      "6\n",
      "8\n",
      "10\n",
      "12\n",
      "14\n",
      "16\n",
      "18\n",
      "20\n"
     ]
    }
   ],
   "source": [
    "# calculate the sum of numbers from 1 to 10 using a while loop.\n",
    "a=11\n",
    "b=1\n",
    "while b<a:\n",
    "    print(b+b)\n",
    "    b=b+1"
   ]
  },
  {
   "cell_type": "code",
   "execution_count": 13,
   "id": "2d8c2d98-4d8a-427d-ae7a-428dd3a611bf",
   "metadata": {},
   "outputs": [
    {
     "name": "stdout",
     "output_type": "stream",
     "text": [
      "1\n",
      "2\n",
      "6\n",
      "24\n",
      "120\n",
      "720\n",
      "5040\n",
      "40320\n",
      "362880\n"
     ]
    }
   ],
   "source": [
    "# calculate the factorial of a number using a for loop.\n",
    "a=10\n",
    "b=1\n",
    "for i in range(1,10):\n",
    "    b=b*i\n",
    "    print(b)\n"
   ]
  },
  {
   "cell_type": "code",
   "execution_count": 19,
   "id": "8e456f52-e922-4d68-970f-a93820a689e7",
   "metadata": {},
   "outputs": [
    {
     "name": "stdout",
     "output_type": "stream",
     "text": [
      "1 -the vowel is\n",
      "2 -the vowel is\n",
      "3 -the vowel is\n",
      "4 -the vowel is\n",
      "5 -the vowel is\n"
     ]
    }
   ],
   "source": [
    "#count the number of vowels in a string using a for loop.\n",
    "k=1\n",
    "for i in range(0,10):\n",
    "    if i%2!=0:\n",
    "        continue\n",
    "    print(k,\"-the vowel is\")\n",
    "    k=k+1"
   ]
  },
  {
   "cell_type": "code",
   "execution_count": 21,
   "id": "b323f99a-66ba-4214-82a7-1649251ce1b8",
   "metadata": {},
   "outputs": [
    {
     "name": "stdout",
     "output_type": "stream",
     "text": [
      "@ \n",
      "@ @ \n",
      "@ @ @ \n",
      "@ @ @ @ \n",
      "@ @ @ @ @ \n",
      "@ @ @ @ @ @ \n",
      "@ @ @ @ @ @ @ \n"
     ]
    }
   ],
   "source": [
    "# print a patter using nested loops.\n",
    "for i in range(7):\n",
    "    for j in range(i+1):\n",
    "        print(\"@\",end=\" \")\n",
    "    print()"
   ]
  },
  {
   "cell_type": "code",
   "execution_count": null,
   "id": "0de94fda-5ce5-44a2-8925-b0d25186e3c5",
   "metadata": {},
   "outputs": [],
   "source": [
    "# generate a multiple "
   ]
  }
 ],
 "metadata": {
  "kernelspec": {
   "display_name": "Python 3 (ipykernel)",
   "language": "python",
   "name": "python3"
  },
  "language_info": {
   "codemirror_mode": {
    "name": "ipython",
    "version": 3
   },
   "file_extension": ".py",
   "mimetype": "text/x-python",
   "name": "python",
   "nbconvert_exporter": "python",
   "pygments_lexer": "ipython3",
   "version": "3.10.8"
  }
 },
 "nbformat": 4,
 "nbformat_minor": 5
}

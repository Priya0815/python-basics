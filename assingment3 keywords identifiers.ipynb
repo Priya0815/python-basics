{
 "cells": [
  {
   "cell_type": "markdown",
   "id": "7af663e6-658a-439d-ad8c-9f8b4d8f1fc5",
   "metadata": {},
   "source": [
    "# Explain the significance of python keywords and provide exaples of five keywords.\n",
    "Python keywords are some predefined and reserved words in python that have special meanings.Keywords are used to define the syntax of the coding.The keywords cannot be used as an identifier,function,or variable name.All the keywords in python are written in lowercase except True and False.\n",
    "        Emaples of keywords: for,if,elif,while,import."
   ]
  },
  {
   "cell_type": "markdown",
   "id": "cd10e755-e4ce-4e48-ace8-ace9d1b2f283",
   "metadata": {},
   "source": [
    "# Describe the rules for defining identifiers in python and provide an example.\n",
    "Identifier is nothing but naming in python programming it can be class name,function and variable name.\n",
    "Rules for defining identifires:\n",
    "1.The first character must be an uppercase or lowercase letters.\n",
    "2.The remaining chracter must be letters,digits,or underscore( _ ).\n",
    "3.A data type suffix character (%,&,!,#,@,or $) can be appended , but is not part of the identifier.\n",
    "4.Names are case sensitive."
   ]
  },
  {
   "cell_type": "markdown",
   "id": "040c0e63-8706-4008-a14d-7ca4733fc85e",
   "metadata": {},
   "source": [
    "# What are the comments in python , and why are they useful? Provide an example.\n",
    "comments are used in python for explaining any type of code and logic in python , it can be any message and information about the code which we want to explain.In projects there are many people using the file so it will be helpful to convey the comments of particular code so the other user can easily understand . It can be done by using  #. e.g.\n"
   ]
  },
  {
   "cell_type": "code",
   "execution_count": 5,
   "id": "37e27304-3c8f-4583-b9c4-b92200c933df",
   "metadata": {},
   "outputs": [
    {
     "name": "stdout",
     "output_type": "stream",
     "text": [
      "1\n",
      "2\n",
      "3\n",
      "4\n",
      "5\n",
      "6\n",
      "7\n",
      "8\n",
      "9\n"
     ]
    }
   ],
   "source": [
    "for i in range(1,10):\n",
    "    # I want to start from 1\n",
    "    print(i)"
   ]
  },
  {
   "cell_type": "markdown",
   "id": "583805ef-022e-4c9f-9438-7001a1f87ccf",
   "metadata": {},
   "source": [
    "# Why is proper identation important in python?\n",
    "Identation are structures in python which shows which line belongs to where.Identation refers to the spaces that are used in the beginning of statement .It improves the code readability ,making it easier for other developers to understand and maintain the codebase."
   ]
  },
  {
   "cell_type": "markdown",
   "id": "d5e3045d-fe7b-4189-aa82-7a09b98abff8",
   "metadata": {},
   "source": [
    "# What happens if identation is incorrect in python?\n",
    "When the identaion is incorrect in python,it typically results syntax error or logical errors."
   ]
  },
  {
   "cell_type": "markdown",
   "id": "6bf8c77f-4f14-4978-8fc1-0d79dfc71060",
   "metadata": {},
   "source": [
    "# Deffertiate between expression and statement in python with examples.\n",
    "Expression  is a combination of values,variables,operators,and cells to function. It need to be evaluated. If you ask python to print an expression , the interpreter evaluates the expression and display the result.\n",
    "     A statement is in instruction that the python interpreter can execute."
   ]
  }
 ],
 "metadata": {
  "kernelspec": {
   "display_name": "Python 3 (ipykernel)",
   "language": "python",
   "name": "python3"
  },
  "language_info": {
   "codemirror_mode": {
    "name": "ipython",
    "version": 3
   },
   "file_extension": ".py",
   "mimetype": "text/x-python",
   "name": "python",
   "nbconvert_exporter": "python",
   "pygments_lexer": "ipython3",
   "version": "3.10.8"
  }
 },
 "nbformat": 4,
 "nbformat_minor": 5
}

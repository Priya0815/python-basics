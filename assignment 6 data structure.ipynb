{
 "cells": [
  {
   "cell_type": "markdown",
   "id": "2261323b-50f6-40e1-9d44-e35bf36d4e6d",
   "metadata": {},
   "source": [
    "# Question 1:\n",
    "Ans: Deque in python , it is a odule collection . Deque is preferred over a list in the cases where we need quicker append and pop operations from both the ends of the container . Queue id linear data sturcture , follows first in first out , orderly and subsequential manner . It is helpful when you want to get things out of the lists in the order that you put in . e.g. In railway reservation customer get services according to the time of booking if the customer is late then they get services late or there is a no service."
   ]
  },
  {
   "cell_type": "markdown",
   "id": "bf374d82-3a38-4981-a542-4f8b7023ede9",
   "metadata": {},
   "source": [
    "# Question 2:\n",
    "Ans: Stack is also a linear data sturcture  which works on a principle last in first out . This means the last element inserted in the stack is removed first . The simplest example of stack is like the undo function in browser which we visit recently we can undo."
   ]
  },
  {
   "cell_type": "markdown",
   "id": "1eaeef34-c693-476b-8ea1-22fd6b0c35bb",
   "metadata": {},
   "source": [
    "# Question 3:\n",
    "Ans: Sets are unordered collection of data items that store multiple items in a simple variable . Sets items are separated by comma , and enclosed with curly brackets . It is immutable . sets only store unique elements in data so there is efficient work where the duplicate value is not required . Sets are dynamic so there is no error of overflowing pf the sets. Sets improves perfomance in variuos data analysis algorithm."
   ]
  },
  {
   "cell_type": "markdown",
   "id": "97e10d0d-d750-467c-88e4-05d8c844629e",
   "metadata": {},
   "source": [
    "# Question 4:\n",
    "Ans: An array is special variable , which can hold more than one value at a time . An array can hold many values under a single name, and you can access the values by referring to an index number . Array in python can be imported by array module . Insert is used to insert value in the array . The advantage of array is it can hold multiple values in a single variable and also helps you to reduce the overall size of the code . It saves time."
   ]
  },
  {
   "cell_type": "markdown",
   "id": "dbbdea90-d3f4-41aa-905a-ef906a19180a",
   "metadata": {},
   "source": [
    "# Question 5:\n",
    "Ans: list is the ordered collection of data on the other hand dictionaries is unordered collection of data . list uses [] brackets and dictionaries uses {} brackets . it can be access by index and dic is accessed by its keys. list allow duplicate and does not allow duplicate . they both have crucial impact on programming . list can store and data type but dic only store immutable data types . the sorting of list is more easy like ascending and desecending operation because there are sequence but in dic there we can not do sorting because there are no seq "
   ]
  }
 ],
 "metadata": {
  "kernelspec": {
   "display_name": "Python 3 (ipykernel)",
   "language": "python",
   "name": "python3"
  },
  "language_info": {
   "codemirror_mode": {
    "name": "ipython",
    "version": 3
   },
   "file_extension": ".py",
   "mimetype": "text/x-python",
   "name": "python",
   "nbconvert_exporter": "python",
   "pygments_lexer": "ipython3",
   "version": "3.10.8"
  }
 },
 "nbformat": 4,
 "nbformat_minor": 5
}

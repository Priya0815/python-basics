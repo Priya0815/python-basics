{
 "cells": [
  {
   "cell_type": "code",
   "execution_count": 4,
   "id": "79609fcb-54de-4a49-804f-b3bc5390c0d4",
   "metadata": {},
   "outputs": [
    {
     "data": {
      "text/plain": [
       "70"
      ]
     },
     "execution_count": 4,
     "metadata": {},
     "output_type": "execute_result"
    }
   ],
   "source": [
    "# calculate the sum,difference,product and qoutient of two numbers.\n",
    "a=60\n",
    "b=10\n",
    "a+b\n"
   ]
  },
  {
   "cell_type": "code",
   "execution_count": 8,
   "id": "11d7e918-3eb4-4e67-92fc-37955cb8412f",
   "metadata": {},
   "outputs": [
    {
     "data": {
      "text/plain": [
       "11"
      ]
     },
     "execution_count": 8,
     "metadata": {},
     "output_type": "execute_result"
    }
   ],
   "source": [
    "a=89\n",
    "b=78\n",
    "a-b"
   ]
  },
  {
   "cell_type": "code",
   "execution_count": 9,
   "id": "139460b9-80d3-45a3-b341-98302caf7738",
   "metadata": {},
   "outputs": [
    {
     "data": {
      "text/plain": [
       "42"
      ]
     },
     "execution_count": 9,
     "metadata": {},
     "output_type": "execute_result"
    }
   ],
   "source": [
    "a=6\n",
    "b=7\n",
    "a*b"
   ]
  },
  {
   "cell_type": "code",
   "execution_count": 10,
   "id": "ff024a08-3be8-45fc-b69a-94b71dc634b2",
   "metadata": {},
   "outputs": [
    {
     "data": {
      "text/plain": [
       "4"
      ]
     },
     "execution_count": 10,
     "metadata": {},
     "output_type": "execute_result"
    }
   ],
   "source": [
    "a=4\n",
    "b=16\n",
    "a%b"
   ]
  },
  {
   "cell_type": "code",
   "execution_count": 11,
   "id": "106c5d62-6d86-46a6-b853-ca469a20eff9",
   "metadata": {},
   "outputs": [
    {
     "data": {
      "text/plain": [
       "True"
      ]
     },
     "execution_count": 11,
     "metadata": {},
     "output_type": "execute_result"
    }
   ],
   "source": [
    "# perform various assignment operations on a variable.\n",
    "80==80"
   ]
  },
  {
   "cell_type": "code",
   "execution_count": 12,
   "id": "e30fff21-f6b7-4dce-875b-710f99023af3",
   "metadata": {},
   "outputs": [
    {
     "data": {
      "text/plain": [
       "True"
      ]
     },
     "execution_count": 12,
     "metadata": {},
     "output_type": "execute_result"
    }
   ],
   "source": [
    "60!=70"
   ]
  },
  {
   "cell_type": "code",
   "execution_count": 13,
   "id": "1e2fb2ab-8c46-482e-afc9-b17c7295217a",
   "metadata": {},
   "outputs": [
    {
     "data": {
      "text/plain": [
       "False"
      ]
     },
     "execution_count": 13,
     "metadata": {},
     "output_type": "execute_result"
    }
   ],
   "source": [
    "60>80"
   ]
  },
  {
   "cell_type": "code",
   "execution_count": 14,
   "id": "b2f48bca-9d42-4253-b7ba-a88b817a389b",
   "metadata": {},
   "outputs": [
    {
     "data": {
      "text/plain": [
       "True"
      ]
     },
     "execution_count": 14,
     "metadata": {},
     "output_type": "execute_result"
    }
   ],
   "source": [
    "67<90"
   ]
  },
  {
   "cell_type": "code",
   "execution_count": 15,
   "id": "fa7588be-8c81-4406-b9e6-3591d5f231b3",
   "metadata": {},
   "outputs": [
    {
     "data": {
      "text/plain": [
       "True"
      ]
     },
     "execution_count": 15,
     "metadata": {},
     "output_type": "execute_result"
    }
   ],
   "source": [
    "78<=80"
   ]
  },
  {
   "cell_type": "code",
   "execution_count": 17,
   "id": "ffb5cccf-aed4-4487-a945-d7321e413da7",
   "metadata": {},
   "outputs": [
    {
     "data": {
      "text/plain": [
       "False"
      ]
     },
     "execution_count": 17,
     "metadata": {},
     "output_type": "execute_result"
    }
   ],
   "source": [
    "44467>=89987"
   ]
  },
  {
   "cell_type": "code",
   "execution_count": 19,
   "id": "fbbd39e6-6cc3-47e8-b18a-9ae10794cb6e",
   "metadata": {},
   "outputs": [
    {
     "name": "stdout",
     "output_type": "stream",
     "text": [
      "True\n"
     ]
    }
   ],
   "source": [
    "#compare two numbers and print the result.\n",
    "a=123\n",
    "b=456\n",
    "print(b>a)"
   ]
  },
  {
   "cell_type": "code",
   "execution_count": 20,
   "id": "7ad5a759-7822-4a34-bacc-cd7b7bce7cfc",
   "metadata": {},
   "outputs": [
    {
     "data": {
      "text/plain": [
       "True"
      ]
     },
     "execution_count": 20,
     "metadata": {},
     "output_type": "execute_result"
    }
   ],
   "source": [
    "True or False"
   ]
  },
  {
   "cell_type": "code",
   "execution_count": 23,
   "id": "ac507c20-7dc1-4993-a42c-eb0d244a38f1",
   "metadata": {},
   "outputs": [
    {
     "name": "stdout",
     "output_type": "stream",
     "text": [
      "you are qualified\n"
     ]
    }
   ],
   "source": [
    "# check conditions using logical operators.\n",
    "age=30\n",
    "marks=100\n",
    "if age>=25 and marks>=90:\n",
    "    print(\"you are qualified\")\n",
    "else:\n",
    "    print(\"you are not qualified\")"
   ]
  },
  {
   "cell_type": "code",
   "execution_count": 25,
   "id": "9dd7311f-fcc2-44d8-a626-51125c5b6a03",
   "metadata": {},
   "outputs": [
    {
     "data": {
      "text/plain": [
       "True"
      ]
     },
     "execution_count": 25,
     "metadata": {},
     "output_type": "execute_result"
    }
   ],
   "source": [
    "# check the identity of variables.\n",
    "sugar=20\n",
    "price=200\n",
    "sugar>25 or price<250"
   ]
  },
  {
   "cell_type": "code",
   "execution_count": 31,
   "id": "491cb400-f2ed-4262-9da2-fc5854722699",
   "metadata": {},
   "outputs": [
    {
     "data": {
      "text/plain": [
       "54"
      ]
     },
     "execution_count": 31,
     "metadata": {},
     "output_type": "execute_result"
    }
   ],
   "source": [
    "# perform bitwise operations on any two integers.\n",
    "a=34\n",
    "a+20"
   ]
  },
  {
   "cell_type": "code",
   "execution_count": 32,
   "id": "6b22d797-1d72-4993-9cc0-6137db177b1c",
   "metadata": {},
   "outputs": [
    {
     "data": {
      "text/plain": [
       "34"
      ]
     },
     "execution_count": 32,
     "metadata": {},
     "output_type": "execute_result"
    }
   ],
   "source": [
    "a"
   ]
  },
  {
   "cell_type": "code",
   "execution_count": 33,
   "id": "dddf4719-6c18-4b7e-88c6-e8df523ded0c",
   "metadata": {},
   "outputs": [
    {
     "data": {
      "text/plain": [
       "3060"
      ]
     },
     "execution_count": 33,
     "metadata": {},
     "output_type": "execute_result"
    }
   ],
   "source": [
    "a*90"
   ]
  },
  {
   "cell_type": "code",
   "execution_count": 34,
   "id": "ec5dfb21-67f2-41d4-a196-812168cdf5f3",
   "metadata": {},
   "outputs": [
    {
     "data": {
      "text/plain": [
       "34"
      ]
     },
     "execution_count": 34,
     "metadata": {},
     "output_type": "execute_result"
    }
   ],
   "source": [
    "a"
   ]
  },
  {
   "cell_type": "code",
   "execution_count": 35,
   "id": "ba9eb536-d7e5-487d-8854-26a380e639eb",
   "metadata": {},
   "outputs": [],
   "source": [
    "a*=9"
   ]
  },
  {
   "cell_type": "code",
   "execution_count": 37,
   "id": "53a11f53-df0c-4c8a-8832-1e603616fbe0",
   "metadata": {},
   "outputs": [],
   "source": [
    "a=5678\n",
    "a*=6"
   ]
  },
  {
   "cell_type": "code",
   "execution_count": 38,
   "id": "d180f619-89ca-4953-8644-c04bf98a3f0b",
   "metadata": {},
   "outputs": [
    {
     "data": {
      "text/plain": [
       "34068"
      ]
     },
     "execution_count": 38,
     "metadata": {},
     "output_type": "execute_result"
    }
   ],
   "source": [
    "a"
   ]
  },
  {
   "cell_type": "code",
   "execution_count": 46,
   "id": "9eb50c7b-55d4-41c3-a1b5-0558901a6913",
   "metadata": {},
   "outputs": [
    {
     "data": {
      "text/plain": [
       "False"
      ]
     },
     "execution_count": 46,
     "metadata": {},
     "output_type": "execute_result"
    }
   ],
   "source": [
    "a=\"intelligent\"\n",
    "b=\"smart\"\n",
    "b is a"
   ]
  },
  {
   "cell_type": "code",
   "execution_count": 48,
   "id": "e981095d-6650-4b43-90c7-ef24754df0a3",
   "metadata": {},
   "outputs": [
    {
     "data": {
      "text/plain": [
       "True"
      ]
     },
     "execution_count": 48,
     "metadata": {},
     "output_type": "execute_result"
    }
   ],
   "source": [
    "c=a\n",
    "c is a"
   ]
  },
  {
   "cell_type": "code",
   "execution_count": 49,
   "id": "5866bd83-181f-4572-857a-65d9e9b48995",
   "metadata": {},
   "outputs": [
    {
     "data": {
      "text/plain": [
       "True"
      ]
     },
     "execution_count": 49,
     "metadata": {},
     "output_type": "execute_result"
    }
   ],
   "source": [
    "smart=\"intelligent\"\n",
    "crazy=smart\n",
    "trust=\"love\"\n",
    "crazy is not trust"
   ]
  },
  {
   "cell_type": "code",
   "execution_count": 50,
   "id": "639f1f95-13bb-484d-80a5-3c43f7ab9b17",
   "metadata": {},
   "outputs": [
    {
     "data": {
      "text/plain": [
       "8"
      ]
     },
     "execution_count": 50,
     "metadata": {},
     "output_type": "execute_result"
    }
   ],
   "source": [
    "8 or 5"
   ]
  },
  {
   "cell_type": "code",
   "execution_count": 51,
   "id": "407112ba-f9e5-4b3f-b30e-857e4a03615d",
   "metadata": {},
   "outputs": [
    {
     "data": {
      "text/plain": [
       "'0b100'"
      ]
     },
     "execution_count": 51,
     "metadata": {},
     "output_type": "execute_result"
    }
   ],
   "source": [
    "bin(4)"
   ]
  },
  {
   "cell_type": "code",
   "execution_count": 52,
   "id": "60d2d260-8e3a-4e41-b944-aac115dc09d0",
   "metadata": {},
   "outputs": [
    {
     "name": "stdout",
     "output_type": "stream",
     "text": [
      "-90\n"
     ]
    }
   ],
   "source": [
    "# use unary operators to change the sign of a number.\n",
    "a=90\n",
    "print(-a)"
   ]
  },
  {
   "cell_type": "code",
   "execution_count": 53,
   "id": "85c4e7e8-851f-4c51-b046-373b7587ab93",
   "metadata": {},
   "outputs": [
    {
     "name": "stdout",
     "output_type": "stream",
     "text": [
      "23\n"
     ]
    }
   ],
   "source": [
    "a=-23\n",
    "print(-a)"
   ]
  },
  {
   "cell_type": "code",
   "execution_count": null,
   "id": "efc0b7cf-cedc-4562-8802-6f32622bdc19",
   "metadata": {},
   "outputs": [],
   "source": [
    "# use the ternary operators to assign values based on conditions.\n",
    "a=50\n"
   ]
  }
 ],
 "metadata": {
  "kernelspec": {
   "display_name": "Python 3 (ipykernel)",
   "language": "python",
   "name": "python3"
  },
  "language_info": {
   "codemirror_mode": {
    "name": "ipython",
    "version": 3
   },
   "file_extension": ".py",
   "mimetype": "text/x-python",
   "name": "python",
   "nbconvert_exporter": "python",
   "pygments_lexer": "ipython3",
   "version": "3.10.8"
  }
 },
 "nbformat": 4,
 "nbformat_minor": 5
}

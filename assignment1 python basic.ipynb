{
 "cells": [
  {
   "cell_type": "code",
   "execution_count": 1,
   "id": "11a130cc-4ccd-4e35-9971-b5728f356166",
   "metadata": {},
   "outputs": [],
   "source": [
    "# convert an integer to a floating-point number.\n",
    "a=7"
   ]
  },
  {
   "cell_type": "code",
   "execution_count": 5,
   "id": "95081845-5de5-410d-b769-5b1c72e5dadb",
   "metadata": {},
   "outputs": [
    {
     "data": {
      "text/plain": [
       "int"
      ]
     },
     "execution_count": 5,
     "metadata": {},
     "output_type": "execute_result"
    }
   ],
   "source": [
    "type(a)"
   ]
  },
  {
   "cell_type": "code",
   "execution_count": 7,
   "id": "a31219fc-042c-4b57-aa9e-f79c8b837acb",
   "metadata": {},
   "outputs": [],
   "source": [
    "b=float(a)"
   ]
  },
  {
   "cell_type": "code",
   "execution_count": 8,
   "id": "3a812ba8-b7ac-4b4b-af9a-8f6ad4f655f8",
   "metadata": {},
   "outputs": [
    {
     "data": {
      "text/plain": [
       "float"
      ]
     },
     "execution_count": 8,
     "metadata": {},
     "output_type": "execute_result"
    }
   ],
   "source": [
    "type(b)"
   ]
  },
  {
   "cell_type": "code",
   "execution_count": 9,
   "id": "dd41b5d3-da5e-427a-90de-2ace0c66c3bf",
   "metadata": {},
   "outputs": [
    {
     "data": {
      "text/plain": [
       "float"
      ]
     },
     "execution_count": 9,
     "metadata": {},
     "output_type": "execute_result"
    }
   ],
   "source": [
    "#convert a float to an integer.\n",
    "a=5.9\n",
    "type(a)"
   ]
  },
  {
   "cell_type": "code",
   "execution_count": 12,
   "id": "406c8008-16c1-4192-9adc-9d841465886b",
   "metadata": {},
   "outputs": [],
   "source": [
    "b=int(5.9)"
   ]
  },
  {
   "cell_type": "code",
   "execution_count": 15,
   "id": "8e9a74c3-2b8b-43bf-9868-3a058cd97771",
   "metadata": {},
   "outputs": [
    {
     "data": {
      "text/plain": [
       "int"
      ]
     },
     "execution_count": 15,
     "metadata": {},
     "output_type": "execute_result"
    }
   ],
   "source": [
    "type(b)"
   ]
  },
  {
   "cell_type": "code",
   "execution_count": 16,
   "id": "c244ccac-2c50-4e2d-ae66-ed5176a8533c",
   "metadata": {},
   "outputs": [
    {
     "data": {
      "text/plain": [
       "int"
      ]
     },
     "execution_count": 16,
     "metadata": {},
     "output_type": "execute_result"
    }
   ],
   "source": [
    "# convert an integer to a string.\n",
    "a=8\n",
    "type(a)"
   ]
  },
  {
   "cell_type": "code",
   "execution_count": 17,
   "id": "b7b9f0bd-f515-47dc-ba38-31ade3c12cff",
   "metadata": {},
   "outputs": [],
   "source": [
    "b=str(a)"
   ]
  },
  {
   "cell_type": "code",
   "execution_count": 18,
   "id": "9dc0ac9e-1d8b-4dac-88e6-d06dc978d080",
   "metadata": {},
   "outputs": [
    {
     "data": {
      "text/plain": [
       "str"
      ]
     },
     "execution_count": 18,
     "metadata": {},
     "output_type": "execute_result"
    }
   ],
   "source": [
    "type(b)"
   ]
  },
  {
   "cell_type": "code",
   "execution_count": 19,
   "id": "c835fda5-0a07-400b-8d55-880a20e52e17",
   "metadata": {},
   "outputs": [],
   "source": [
    "# convert a list to a tuple.\n",
    "l=[1,3,'kittu',6.7]"
   ]
  },
  {
   "cell_type": "code",
   "execution_count": 20,
   "id": "416c53e2-e337-40c7-83e7-0d6eedc72666",
   "metadata": {},
   "outputs": [
    {
     "data": {
      "text/plain": [
       "list"
      ]
     },
     "execution_count": 20,
     "metadata": {},
     "output_type": "execute_result"
    }
   ],
   "source": [
    "type(l)"
   ]
  },
  {
   "cell_type": "code",
   "execution_count": 25,
   "id": "2fc17ee7-14d0-4bef-99a5-efbfc45576f1",
   "metadata": {},
   "outputs": [],
   "source": [
    "t=tuple(l)"
   ]
  },
  {
   "cell_type": "code",
   "execution_count": 26,
   "id": "b28e5a1c-c9fc-4e56-a8ed-e5ab8456575e",
   "metadata": {},
   "outputs": [
    {
     "data": {
      "text/plain": [
       "tuple"
      ]
     },
     "execution_count": 26,
     "metadata": {},
     "output_type": "execute_result"
    }
   ],
   "source": [
    "type(t)"
   ]
  },
  {
   "cell_type": "code",
   "execution_count": 27,
   "id": "3ce84cc2-5326-4cb2-b801-f9df7e4ab60e",
   "metadata": {},
   "outputs": [],
   "source": [
    "# convert a tuple to a list.\n",
    "tuple=('kiitu','shiku','piya')"
   ]
  },
  {
   "cell_type": "code",
   "execution_count": 28,
   "id": "b2a7a69a-901d-4145-88d8-de1afd965361",
   "metadata": {},
   "outputs": [],
   "source": [
    "l=list(tuple)"
   ]
  },
  {
   "cell_type": "code",
   "execution_count": 30,
   "id": "c4565bf9-7e4e-4212-b5d0-798df3059fc0",
   "metadata": {},
   "outputs": [
    {
     "data": {
      "text/plain": [
       "list"
      ]
     },
     "execution_count": 30,
     "metadata": {},
     "output_type": "execute_result"
    }
   ],
   "source": [
    "type(l)"
   ]
  },
  {
   "cell_type": "code",
   "execution_count": 1,
   "id": "5fbbd8b7-9ef7-4f09-9b5c-d24e03464f0c",
   "metadata": {},
   "outputs": [
    {
     "data": {
      "text/plain": [
       "True"
      ]
     },
     "execution_count": 1,
     "metadata": {},
     "output_type": "execute_result"
    }
   ],
   "source": [
    "#convert a non zero number to boolean.\n",
    "a=8\n",
    "bool(a)"
   ]
  },
  {
   "cell_type": "code",
   "execution_count": 1,
   "id": "8a6d1c41-e7df-4ff1-8203-6db6f05a99e3",
   "metadata": {},
   "outputs": [
    {
     "name": "stdin",
     "output_type": "stream",
     "text": [
      "the value of decimal number 5\n"
     ]
    },
    {
     "name": "stdout",
     "output_type": "stream",
     "text": [
      "0b101\n"
     ]
    }
   ],
   "source": [
    "# convert a decimal number to binary.\n",
    "a=int(input('the value of decimal number'))\n",
    "print(bin(a))"
   ]
  }
 ],
 "metadata": {
  "kernelspec": {
   "display_name": "Python 3 (ipykernel)",
   "language": "python",
   "name": "python3"
  },
  "language_info": {
   "codemirror_mode": {
    "name": "ipython",
    "version": 3
   },
   "file_extension": ".py",
   "mimetype": "text/x-python",
   "name": "python",
   "nbconvert_exporter": "python",
   "pygments_lexer": "ipython3",
   "version": "3.10.8"
  }
 },
 "nbformat": 4,
 "nbformat_minor": 5
}

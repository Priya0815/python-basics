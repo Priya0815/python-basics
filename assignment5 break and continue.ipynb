{
 "cells": [
  {
   "cell_type": "code",
   "execution_count": 2,
   "id": "405600b3-b784-4244-a6a8-e0d88e1096da",
   "metadata": {},
   "outputs": [
    {
     "name": "stdout",
     "output_type": "stream",
     "text": [
      "0\n",
      "1\n",
      "2\n",
      "3\n",
      "4\n"
     ]
    }
   ],
   "source": [
    "# write a program to print numbers from 1 to 10 , but stop it the number is 5.\n",
    "i=0\n",
    "for i in range(0,11):\n",
    "    if i == 5:\n",
    "        break\n",
    "    print(i)\n",
    "    "
   ]
  },
  {
   "cell_type": "code",
   "execution_count": 3,
   "id": "11af562a-238c-493d-a379-d2377766ee1d",
   "metadata": {},
   "outputs": [
    {
     "name": "stdout",
     "output_type": "stream",
     "text": [
      "pwskills\n",
      "3\n"
     ]
    }
   ],
   "source": [
    "# write a program to iterate through a list and stop when encountering a specific element.\n",
    "l=[\"pwskills\",3,\"kittu\"]\n",
    "for i in l:\n",
    "    if i==\"kittu\":\n",
    "        break\n",
    "    print(i)"
   ]
  },
  {
   "cell_type": "code",
   "execution_count": 4,
   "id": "412ec339-3312-44e2-a2ad-c7f320452aac",
   "metadata": {},
   "outputs": [
    {
     "name": "stdout",
     "output_type": "stream",
     "text": [
      "1 - 1\n",
      "2 - 3\n",
      "3 - 5\n",
      "4 - 7\n",
      "5 - 9\n"
     ]
    }
   ],
   "source": [
    "# write a program to skip printing even numbers from 1 to 10.\n",
    "a=1\n",
    "for i in range(0,10):\n",
    "    if i%2==0:\n",
    "        continue\n",
    "    print(a,\"-\",i)\n",
    "    a=a+1"
   ]
  },
  {
   "cell_type": "code",
   "execution_count": 5,
   "id": "59002cc7-563c-432d-948a-4ec2d705d1dc",
   "metadata": {},
   "outputs": [
    {
     "name": "stdout",
     "output_type": "stream",
     "text": [
      "0\n",
      "1\n",
      "2\n",
      "3\n",
      "4\n",
      "5\n",
      "6\n",
      "7\n",
      "8\n",
      "9\n"
     ]
    }
   ],
   "source": [
    "# write a program to print numbers from 0 to 9 using range().\n",
    "for i in range(0,10):\n",
    "    print(i)"
   ]
  },
  {
   "cell_type": "code",
   "execution_count": 9,
   "id": "49098e9c-6fcc-45d6-9261-eafdf6522dc0",
   "metadata": {},
   "outputs": [
    {
     "name": "stdout",
     "output_type": "stream",
     "text": [
      "2 * 1 = 2\n",
      "2 * 2 = 4\n",
      "2 * 3 = 6\n",
      "2 * 4 = 8\n",
      "2 * 5 = 10\n",
      "2 * 6 = 12\n",
      "2 * 7 = 14\n",
      "2 * 8 = 16\n",
      "2 * 9 = 18\n"
     ]
    }
   ],
   "source": [
    "# write a program to print multiplication tables from 1 to 5 , but stop after the first table is printed for each number.\n",
    "x=2\n",
    "num=1\n",
    "for i in range(1,10):\n",
    "    print(x,\"*\",i,\"=\",x*i)\n",
    "x= i + 1\n",
    "\n"
   ]
  },
  {
   "cell_type": "code",
   "execution_count": null,
   "id": "6bb34774-7f37-4f79-860e-f5033e92fcb1",
   "metadata": {},
   "outputs": [],
   "source": [
    "# write a program to printing even numbers using a while loop.\n"
   ]
  }
 ],
 "metadata": {
  "kernelspec": {
   "display_name": "Python 3 (ipykernel)",
   "language": "python",
   "name": "python3"
  },
  "language_info": {
   "codemirror_mode": {
    "name": "ipython",
    "version": 3
   },
   "file_extension": ".py",
   "mimetype": "text/x-python",
   "name": "python",
   "nbconvert_exporter": "python",
   "pygments_lexer": "ipython3",
   "version": "3.10.8"
  }
 },
 "nbformat": 4,
 "nbformat_minor": 5
}
